{
 "cells": [
  {
   "cell_type": "code",
   "execution_count": 55,
   "metadata": {},
   "outputs": [
    {
     "data": {
      "text/html": [
       "<style>.container { width:100% !important; }</style>"
      ],
      "text/plain": [
       "<IPython.core.display.HTML object>"
      ]
     },
     "metadata": {},
     "output_type": "display_data"
    }
   ],
   "source": [
    "\n",
    "# Display in full screen \n",
    "from IPython.core.display import display, HTML\n",
    "display(HTML(\"<style>.container { width:100% !important; }</style>\"))\n",
    "\n",
    "\n",
    "\n",
    "#This is a example script to query influx db \n",
    "\n",
    "#http://influxdb-python.readthedocs.io/en/latest/api-documentation.html\n",
    "\n",
    "\n",
    "\n",
    "#python script \n",
    "\n",
    "# -*- coding: utf-8 -*-\n",
    "## import relevent fields \n",
    "\"\"\"Tutorial for using pandas and the InfluxDB client.\"\"\"\n",
    "\n",
    "import pandas as pd # import pandas \n",
    "import influxdb  # imports influx db \n",
    "from pprint import pprint # prints list in a nice format \n",
    "from influxdb import DataFrameClient  # imports dataframe from influx db\n",
    "import matplotlib\n",
    "import matplotlib.pyplot as plt\n",
    "import numpy as np\n",
    "import datetime\n",
    "import time \n",
    "\n",
    "\n",
    "%matplotlib inline"
   ]
  },
  {
   "cell_type": "code",
   "execution_count": 56,
   "metadata": {},
   "outputs": [],
   "source": [
    "#enter default username and passwords \n",
    "\n",
    "\"\"\"Instantiate the connection to the InfluxDB client.\"\"\"\n",
    "user = 'admin'\n",
    "password = 'SuperSecretPassword123+'\n",
    "dbname = 'TBGIOTDB'\n",
    "# Temporarily avoid line protocol time conversion issues #412, #426, #431.\n",
    "protocol = 'json'\n",
    "host='tb-iot01'\n",
    "port =8086"
   ]
  },
  {
   "cell_type": "code",
   "execution_count": 57,
   "metadata": {},
   "outputs": [],
   "source": [
    "# queries data \n",
    "\n",
    "client = DataFrameClient(host, port, user, password, dbname)\n"
   ]
  },
  {
   "cell_type": "code",
   "execution_count": 119,
   "metadata": {},
   "outputs": [],
   "source": [
    "# function to query the data and drop each entry \n",
    "def fetch_data(influx_query):\n",
    "    queried_data = client.query(influx_query,epoch=\"ns\")\n",
    "    # drops the dictionaries into elements  \n",
    "    queried_data = pd.concat(queried_data, axis=1)\n",
    "    queried_data.columns = queried_data.columns.droplevel()\n",
    "    return queried_data"
   ]
  },
  {
   "cell_type": "code",
   "execution_count": null,
   "metadata": {},
   "outputs": [],
   "source": [
    "def(df, file_name): \n",
    "    df.to_pickle(\"data\\2020-06-28 to 2020-07-08 PE1\")"
   ]
  },
  {
   "cell_type": "markdown",
   "metadata": {},
   "source": [
    "# Boyang wants me to collect data from things network "
   ]
  },
  {
   "cell_type": "code",
   "execution_count": 146,
   "metadata": {},
   "outputs": [],
   "source": [
    "# PE1 \n",
    "df = fetch_data(\"\"\"SELECT (\"Pressure_bar\") FROM \"sensordata\"  WHERE time >= '2020-06-28T00:00:00Z' AND time <= '2020-07-08T23:59:00Z' \"\"\")\n",
    "df.to_pickle(r\"data\\paint_plant\\2020_06_28 to 2020_07_08 PE1.pickle\")\n"
   ]
  },
  {
   "cell_type": "code",
   "execution_count": 148,
   "metadata": {},
   "outputs": [],
   "source": [
    "# PE2\n",
    "df = fetch_data(\"\"\"SELECT (\"Pressure_bar\") FROM \"TBL165-44-E-COAT\" WHERE (\"sensor_idx\" = '#003') and time >= '2020-06-28T00:00:00Z' AND time <= '2020-07-08T23:59:00Z' \"\"\")\n",
    "df.to_pickle(r\"data\\paint_plant\\2020_06_28 to 2020_07_08 PE2.pickle\")"
   ]
  },
  {
   "cell_type": "code",
   "execution_count": null,
   "metadata": {},
   "outputs": [],
   "source": []
  },
  {
   "cell_type": "code",
   "execution_count": 149,
   "metadata": {},
   "outputs": [],
   "source": [
    "# PE4\n",
    "df = fetch_data(\"\"\"SELECT (\"Pressure_bar\") FROM \"TBL165-44-E-COAT\" WHERE (\"sensor_idx\" = '#009') and time >= '2020-06-28T00:00:00Z' AND time <= '2020-07-08T23:59:00Z' \"\"\")\n",
    "df.to_pickle(r\"data\\paint_plant\\2020_06_28 to 2020_07_08 PE4.pickle\")"
   ]
  },
  {
   "cell_type": "code",
   "execution_count": 150,
   "metadata": {},
   "outputs": [],
   "source": [
    "# PE5\n",
    "df = fetch_data(\"\"\"SELECT (\"Pressure_bar\") FROM \"TBL165-44-E-COAT\" WHERE (\"sensor_idx\" = '#010') and time >= '2020-06-28T00:00:00Z' AND time <= '2020-07-08T23:59:00Z' \"\"\")\n",
    "df.to_pickle(r\"data\\paint_plant\\2020_06_28 to 2020_07_08 PE5.pickle\")"
   ]
  },
  {
   "cell_type": "code",
   "execution_count": 151,
   "metadata": {},
   "outputs": [],
   "source": [
    "# FM1 \n",
    "df = fetch_data(\"\"\"SELECT (\"LitersPmin\") FROM \"sensordata\" WHERE time >= '2020-06-28T00:00:00Z' AND time <= '2020-07-08T23:59:00Z' \"\"\")\n",
    "df.to_pickle(r\"data\\paint_plant\\2020_06_28 to 2020_07_08 FM1.pickle\")"
   ]
  },
  {
   "cell_type": "code",
   "execution_count": 157,
   "metadata": {},
   "outputs": [],
   "source": [
    "#TP1 \n",
    "#SELECT mean(\"temp_c\") FROM \"TBL165-44-E-COAT\" WHERE (\"sensor_idx\" = 'TP-1') AND $timeFilter GROUP BY time($__interval) fill(null)\n",
    "df = fetch_data(\"\"\"SELECT (\"temp_c\") FROM \"TBL165-44-E-COAT\" WHERE (\"sensor_idx\" = 'TP-1')  and time >= '2020-06-28T00:00:00Z' AND time <= '2020-07-08T23:59:00Z' \"\"\")\n",
    "df.to_pickle(r\"data\\paint_plant\\2020_06_28 to 2020_07_08 TP-1.pickle\")\n"
   ]
  },
  {
   "cell_type": "code",
   "execution_count": 158,
   "metadata": {},
   "outputs": [],
   "source": [
    "#TP2 \n",
    "df = fetch_data(\"\"\"SELECT (\"temp_c\") FROM \"TBL165-44-E-COAT\" WHERE (\"sensor_idx\" = 'TP-2') and time >= '2020-06-28T00:00:00Z' AND time <= '2020-07-08T23:59:00Z' \"\"\")\n",
    "df.to_pickle(r\"data\\paint_plant\\2020_06_28 to 2020_07_08 TP-2.pickle\")\n"
   ]
  },
  {
   "cell_type": "code",
   "execution_count": 159,
   "metadata": {},
   "outputs": [],
   "source": [
    "#RE1\n",
    "df = fetch_data(\"\"\"SELECT (\"Air_compressor_on\") FROM \"TBL165-44-E-COAT\" WHERE time >= '2020-06-28T00:00:00Z' AND time <= '2020-07-08T23:59:00Z' \"\"\")\n",
    "df.to_pickle(r\"data\\paint_plant\\2020_06_28 to 2020_07_08 RE1.pickle\")\n"
   ]
  },
  {
   "cell_type": "code",
   "execution_count": null,
   "metadata": {},
   "outputs": [],
   "source": []
  }
 ],
 "metadata": {
  "kernelspec": {
   "display_name": "Python 3",
   "language": "python",
   "name": "python3"
  },
  "language_info": {
   "codemirror_mode": {
    "name": "ipython",
    "version": 3
   },
   "file_extension": ".py",
   "mimetype": "text/x-python",
   "name": "python",
   "nbconvert_exporter": "python",
   "pygments_lexer": "ipython3",
   "version": "3.6.7"
  }
 },
 "nbformat": 4,
 "nbformat_minor": 4
}
